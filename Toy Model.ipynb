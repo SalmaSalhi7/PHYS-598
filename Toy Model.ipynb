{
 "cells": [
  {
   "cell_type": "code",
   "execution_count": 4,
   "id": "94af4a08",
   "metadata": {},
   "outputs": [],
   "source": [
    "import numpy as np\n",
    "import matplotlib.pyplot as plt \n",
    "import math\n",
    "import cmath as cm\n",
    "\n",
    "# making the A matrix \n",
    "state_AB = np.array([[1],[0],[0],[1]])\n",
    "state_AC = np.array([[1],[0],[0],[1]])\n",
    "\n",
    "A = 0.5*np.outer(state_AB, state_AC).flatten()\n",
    "A = np.tensordot(A, state_AB, axes=0)\n",
    "A = np.reshape(A, (16,4))\n",
    "\n",
    "# making a list of chi bell states (excluding the one we use to construct A)\n",
    "chi_1 = (1/math.sqrt(2))*np.array([1,0,0,-1])\n",
    "chi_2 = (1/math.sqrt(2))*np.array([0,1,1,0])\n",
    "chi_3 = (1/math.sqrt(2))*np.array([0,1,-1,0])\n",
    "\n",
    "chi = np.array([chi_1, chi_2, chi_3])\n",
    "\n",
    "# making a list of the 16 psi versors \n",
    "versors = []\n",
    "for i in range(16):\n",
    "    psi = np.zeros((16))\n",
    "    psi[i] = 1\n",
    "    versors.append(psi)\n",
    "    \n",
    "# checking if a given square matrix is the identity matrix\n",
    "def isIdentity(mat, N):\n",
    "    for row in range(N):\n",
    "        for col in range(N):\n",
    "            if (row == col and\n",
    "                mat[row][col] != 1):\n",
    "                return False\n",
    "            elif (row != col and\n",
    "                  mat[row][col] != 0):\n",
    "                return False\n",
    "    return True\n",
    "\n",
    "# shuffle through 3 versors at a time and check to see if you get the identity matrix. Each set of 3 must be different\n",
    "count = 0\n",
    "for i in range(len(versors)):\n",
    "    for j in range(len(versors)):\n",
    "        for k in range(len(versors)):\n",
    "            V = A + np.tensordot(versors[i], chi[0], axes=0) + np.tensordot(versors[j], chi[1], axes=0) + np.tensordot(versors[k], chi[2], axes=0)\n",
    "            identity = np.matmul(V.T, V)\n",
    "            isIden = isIdentity(identity, len(identity))\n",
    "            if isIden == True: \n",
    "                print('Isometry found at', i, j, k)\n",
    "            count += 1\n",
    "\n",
    "\n",
    "    "
   ]
  },
  {
   "cell_type": "code",
   "execution_count": null,
   "id": "fe5b67d7",
   "metadata": {},
   "outputs": [],
   "source": []
  }
 ],
 "metadata": {
  "kernelspec": {
   "display_name": "Python 3 (ipykernel)",
   "language": "python",
   "name": "python3"
  },
  "language_info": {
   "codemirror_mode": {
    "name": "ipython",
    "version": 3
   },
   "file_extension": ".py",
   "mimetype": "text/x-python",
   "name": "python",
   "nbconvert_exporter": "python",
   "pygments_lexer": "ipython3",
   "version": "3.8.12"
  }
 },
 "nbformat": 4,
 "nbformat_minor": 5
}
